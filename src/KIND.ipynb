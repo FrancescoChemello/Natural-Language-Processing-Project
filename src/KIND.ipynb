{
  "nbformat": 4,
  "nbformat_minor": 0,
  "metadata": {
    "colab": {
      "provenance": [],
      "authorship_tag": "ABX9TyPlwB/rgoTx+we1/1euGPdU"
    },
    "kernelspec": {
      "name": "python3",
      "display_name": "Python 3"
    },
    "language_info": {
      "name": "python"
    }
  },
  "cells": [
    {
      "cell_type": "code",
      "source": [
        "!git clone https://github.com/dhfbk/KIND.git"
      ],
      "metadata": {
        "colab": {
          "base_uri": "https://localhost:8080/"
        },
        "id": "xud0OKpg2gdh",
        "outputId": "c2c656f4-5756-44e4-f416-18e8acb85039"
      },
      "execution_count": 1,
      "outputs": [
        {
          "output_type": "stream",
          "name": "stdout",
          "text": [
            "fatal: destination path 'KIND' already exists and is not an empty directory.\n"
          ]
        }
      ]
    },
    {
      "cell_type": "code",
      "source": [
        "import os\n",
        "import pandas as pd\n",
        "from google.colab import userdata\n",
        "from google import genai\n",
        "from google.genai import types"
      ],
      "metadata": {
        "id": "GHpB8xKq2naD"
      },
      "execution_count": 5,
      "outputs": []
    },
    {
      "cell_type": "code",
      "source": [
        "os.chdir('/content/KIND/dataset')"
      ],
      "metadata": {
        "id": "n1sCpQ7q3dTC"
      },
      "execution_count": 6,
      "outputs": []
    },
    {
      "cell_type": "code",
      "source": [
        "df = pd.DataFrame()\n",
        "for file in os.listdir():\n",
        "  pd.read_csv(file, sep='\\t')"
      ],
      "metadata": {
        "id": "XYuNV6gV5FuX"
      },
      "execution_count": 8,
      "outputs": []
    },
    {
      "cell_type": "code",
      "source": [],
      "metadata": {
        "id": "ErCpmu_X8W3f"
      },
      "execution_count": null,
      "outputs": []
    }
  ]
}