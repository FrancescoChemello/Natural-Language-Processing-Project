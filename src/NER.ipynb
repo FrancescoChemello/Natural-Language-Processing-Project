{
  "nbformat": 4,
  "nbformat_minor": 0,
  "metadata": {
    "colab": {
      "provenance": [],
      "authorship_tag": "ABX9TyNgIdGy5Ylj7LRMNOFPmnX9",
      "include_colab_link": true
    },
    "kernelspec": {
      "name": "python3",
      "display_name": "Python 3"
    },
    "language_info": {
      "name": "python"
    }
  },
  "cells": [
    {
      "cell_type": "markdown",
      "metadata": {
        "id": "view-in-github",
        "colab_type": "text"
      },
      "source": [
        "<a href=\"https://colab.research.google.com/github/FrancescoChemello/Natural-Language-Processing-Project/blob/main/src/NER.ipynb\" target=\"_parent\"><img src=\"https://colab.research.google.com/assets/colab-badge.svg\" alt=\"Open In Colab\"/></a>"
      ]
    },
    {
      "cell_type": "code",
      "execution_count": 13,
      "metadata": {
        "id": "nkt2WG4TuxMK"
      },
      "outputs": [],
      "source": [
        "import os\n",
        "from tqdm import tqdm\n",
        "import pandas as pd\n",
        "import numpy as np\n",
        "import csv\n",
        "# Gemini libraries\n",
        "\n",
        "from google import genai\n",
        "from google.genai import types"
      ]
    },
    {
      "cell_type": "code",
      "source": [
        "# To manage environment variables\n",
        "\n",
        "\n",
        "from google.colab import userdata"
      ],
      "metadata": {
        "id": "U-v7U5e7vG7R"
      },
      "execution_count": 14,
      "outputs": []
    },
    {
      "cell_type": "markdown",
      "source": [
        "**DATASET**\n",
        "\n",
        "*NER tags*:\n",
        "\n",
        "- **ORGANIZATION** such as *Georgia-Pacific Corp.*, *WHO\n",
        "- **PERSON** such as *Eddy Bonte*, *President Obama*.\n",
        "- **LOCATION** such as *Murray River*, *Mount Everest*.\n",
        "- **DATE** - such as *June*, *2008-06-29*.\n",
        "- **TIME** - such as *two fifty a m*, *1:30 p.m.*\n",
        "- **MONEY** such as *175 million Canadian Dollars*, *GBP 10.40*.\n",
        "- **PERCENT** such as *twenty pct*, *18.75 %*\n",
        "- **FACILITY** such as *Washington Monument*, *Stonehenge*.\n",
        "- **GPE** such as *South East Asia*, *Midlothian*."
      ],
      "metadata": {
        "id": "o9t4jGplwXdF"
      }
    },
    {
      "cell_type": "code",
      "source": [
        "# Use your personal account!\n",
        "\n",
        "from google.colab import drive\n",
        "drive.mount('/content/drive')"
      ],
      "metadata": {
        "colab": {
          "base_uri": "https://localhost:8080/"
        },
        "id": "u5Q37dEwwZMH",
        "outputId": "ac9169e6-e816-4129-db36-ceadca0fd658"
      },
      "execution_count": 15,
      "outputs": [
        {
          "output_type": "stream",
          "name": "stdout",
          "text": [
            "Drive already mounted at /content/drive; to attempt to forcibly remount, call drive.mount(\"/content/drive\", force_remount=True).\n"
          ]
        }
      ]
    },
    {
      "cell_type": "code",
      "source": [
        "namefile = '/content/drive/MyDrive/Colab Notebooks/NLP/ner_datasetreference.csv'\n",
        "\n",
        "dataset = pd.read_csv(namefile, encoding=\"cp1252\") # Fine in Window 1252 (cp1252)\n",
        "\n",
        "print(\"Dataset head:\")\n",
        "print(dataset.head)\n",
        "print(\"\\nDataset shape: \", dataset.shape)\n",
        "print(\"\\nDataset info:\")\n",
        "print(dataset.info())"
      ],
      "metadata": {
        "colab": {
          "base_uri": "https://localhost:8080/"
        },
        "id": "tvh6t9ezzpqi",
        "outputId": "ee07c32a-573e-4958-a480-b4cc08646f4a"
      },
      "execution_count": 17,
      "outputs": [
        {
          "output_type": "stream",
          "name": "stdout",
          "text": [
            "Dataset head:\n",
            "<bound method NDFrame.head of           Sentence #           Word  POS Tag\n",
            "0        Sentence: 1      Thousands  NNS   O\n",
            "1                NaN             of   IN   O\n",
            "2                NaN  demonstrators  NNS   O\n",
            "3                NaN           have  VBP   O\n",
            "4                NaN        marched  VBN   O\n",
            "...              ...            ...  ...  ..\n",
            "1048570          NaN           they  PRP   O\n",
            "1048571          NaN      responded  VBD   O\n",
            "1048572          NaN             to   TO   O\n",
            "1048573          NaN            the   DT   O\n",
            "1048574          NaN         attack   NN   O\n",
            "\n",
            "[1048575 rows x 4 columns]>\n",
            "\n",
            "Dataset shape:  (1048575, 4)\n",
            "\n",
            "Dataset info:\n",
            "<class 'pandas.core.frame.DataFrame'>\n",
            "RangeIndex: 1048575 entries, 0 to 1048574\n",
            "Data columns (total 4 columns):\n",
            " #   Column      Non-Null Count    Dtype \n",
            "---  ------      --------------    ----- \n",
            " 0   Sentence #  47959 non-null    object\n",
            " 1   Word        1048565 non-null  object\n",
            " 2   POS         1048575 non-null  object\n",
            " 3   Tag         1048575 non-null  object\n",
            "dtypes: object(4)\n",
            "memory usage: 32.0+ MB\n",
            "None\n"
          ]
        }
      ]
    },
    {
      "cell_type": "code",
      "source": [
        "# Load the dataset\n",
        "\n",
        "total_rows = len(pd.read_csv(namefile))\n",
        "pbar = tqdm(total=total_rows)\n",
        "\n",
        "# Create a new np array to store the extracted sentences\n",
        "dataset_sentences_array = np.array([])\n",
        "dataset_labels_array = np.array([])\n",
        "\n",
        "# Open file\n",
        "for chunk in pd.read_csv(namefile, sep=';'):\n",
        "\n",
        "    # Manage NaN values\n",
        "    chunk = chunk.fillna('')\n",
        "\n",
        "\n",
        "\n",
        "pbar.close()"
      ],
      "metadata": {
        "id": "J30Ds3uUzvFU"
      },
      "execution_count": null,
      "outputs": []
    },
    {
      "cell_type": "markdown",
      "source": [
        "**Gemini** for NER *(Name Entity Recognition)* task"
      ],
      "metadata": {
        "id": "Ok-bxoU0wZps"
      }
    },
    {
      "cell_type": "code",
      "source": [
        "# Get the API key from the environment of Google Colab (aka Secrets)\n",
        "\n",
        "GOOGLE_API_KEY = userdata.get('GOOGLE_API_KEY')\n",
        "client = genai.Client(api_key=GOOGLE_API_KEY)"
      ],
      "metadata": {
        "id": "O0d6df-Au9Fe"
      },
      "execution_count": null,
      "outputs": []
    },
    {
      "cell_type": "code",
      "source": [
        "# Model Selection\n",
        "\n",
        "response = client.models.generate_content(\n",
        "    model=\"gemini-2.0-flash\",\n",
        "    contents=\"Explain how AI works in a few words\",\n",
        ")"
      ],
      "metadata": {
        "id": "rFCnMwpgv3XK"
      },
      "execution_count": null,
      "outputs": []
    },
    {
      "cell_type": "code",
      "source": [
        "# Print response (testing only)\n",
        "\n",
        "print(response.text)"
      ],
      "metadata": {
        "id": "Y7rOsnEnv9SX"
      },
      "execution_count": null,
      "outputs": []
    }
  ]
}