{
  "nbformat": 4,
  "nbformat_minor": 0,
  "metadata": {
    "colab": {
      "provenance": []
    },
    "kernelspec": {
      "name": "python3",
      "display_name": "Python 3"
    },
    "language_info": {
      "name": "python"
    }
  },
  "cells": [
    {
      "cell_type": "code",
      "execution_count": 1,
      "metadata": {
        "id": "nkt2WG4TuxMK"
      },
      "outputs": [],
      "source": [
        "import os\n",
        "from tqdm import tqdm\n",
        "import pandas as pd\n",
        "import numpy as np\n",
        "import csv\n",
        "\n",
        "# Gemini libraries\n",
        "from google import genai\n",
        "from google.genai import types"
      ]
    },
    {
      "cell_type": "code",
      "source": [
        "# To manage environment variables\n",
        "from google.colab import userdata"
      ],
      "metadata": {
        "id": "U-v7U5e7vG7R"
      },
      "execution_count": 2,
      "outputs": []
    },
    {
      "cell_type": "markdown",
      "source": [
        "**DATASET**\n",
        "\n",
        "*NER tags*:\n",
        "\n",
        "- **ORGANIZATION** such as *Georgia-Pacific Corp.*, *WHO\n",
        "- **PERSON** such as *Eddy Bonte*, *President Obama*.\n",
        "- **LOCATION** such as *Murray River*, *Mount Everest*.\n",
        "- **DATE** - such as *June*, *2008-06-29*.\n",
        "- **TIME** - such as *two fifty a m*, *1:30 p.m.*\n",
        "- **MONEY** such as *175 million Canadian Dollars*, *GBP 10.40*.\n",
        "- **PERCENT** such as *twenty pct*, *18.75 %*\n",
        "- **FACILITY** such as *Washington Monument*, *Stonehenge*.\n",
        "- **GPE** such as *South East Asia*, *Midlothian*."
      ],
      "metadata": {
        "id": "o9t4jGplwXdF"
      }
    },
    {
      "cell_type": "code",
      "source": [
        "# Use your personal account!\n",
        "\n",
        "from google.colab import drive\n",
        "drive.mount('/content/drive')"
      ],
      "metadata": {
        "colab": {
          "base_uri": "https://localhost:8080/"
        },
        "id": "u5Q37dEwwZMH",
        "outputId": "fd138876-8f39-4705-b13c-c562540305f7"
      },
      "execution_count": 3,
      "outputs": [
        {
          "output_type": "stream",
          "name": "stdout",
          "text": [
            "Mounted at /content/drive\n"
          ]
        }
      ]
    },
    {
      "cell_type": "code",
      "source": [
        "namefile = '/content/drive/MyDrive/Colab Notebooks/NLP/ner_dataset.csv'\n",
        "\n",
        "dataset = pd.read_csv(namefile, encoding=\"utf-8\")\n",
        "\n",
        "print(\"Dataset head:\")\n",
        "print(dataset.head)\n",
        "print(\"\\nDataset shape: \", dataset.shape)\n",
        "print(\"\\nDataset info:\")\n",
        "print(dataset.info())"
      ],
      "metadata": {
        "colab": {
          "base_uri": "https://localhost:8080/"
        },
        "id": "tvh6t9ezzpqi",
        "outputId": "181a2086-0c67-4583-9486-c9a3efecb8f0"
      },
      "execution_count": 6,
      "outputs": [
        {
          "output_type": "stream",
          "name": "stdout",
          "text": [
            "Dataset head:\n",
            "<bound method NDFrame.head of                                                     text  \\\n",
            "0      Thousands of demonstrators have marched throug...   \n",
            "1      Iranian officials say they expect to get acces...   \n",
            "2      Helicopter gunships Saturday pounded militant ...   \n",
            "3      They left after a tense hour-long standoff wit...   \n",
            "4      U.N. relief coordinator Jan Egeland said Sunda...   \n",
            "...                                                  ...   \n",
            "47954  Opposition leader Mir Hossein Mousavi has said...   \n",
            "47955  On Thursday , Iranian state media published a ...   \n",
            "47956  Following Iran 's disputed June 12 elections ,...   \n",
            "47957  Since then , authorities have held public tria...   \n",
            "47958  The United Nations is praising the use of mili...   \n",
            "\n",
            "                                                  labels  \n",
            "0      O O O O O O B-geo O O O O O B-geo O O O O O B-...  \n",
            "1      B-gpe O O O O O O O O O O O O O O B-tim O O O ...  \n",
            "2      O O B-tim O O O O O B-geo O O O O O B-org O O ...  \n",
            "3                                  O O O O O O O O O O O  \n",
            "4      B-geo O O B-per I-per O B-tim O B-geo O B-gpe ...  \n",
            "...                                                  ...  \n",
            "47954  O O O B-per I-per O O O O O O O O O O O O O O ...  \n",
            "47955  O B-tim O B-gpe O O O O O O O O B-org I-org O ...  \n",
            "47956  O B-geo O O B-tim I-tim O O O O O O O O O O O ...  \n",
            "47957          O O O O O O O O O O O O O O O O O O O O O  \n",
            "47958  O B-org I-org O O O O O O O O O O O O O O B-ti...  \n",
            "\n",
            "[47959 rows x 2 columns]>\n",
            "\n",
            "Dataset shape:  (47959, 2)\n",
            "\n",
            "Dataset info:\n",
            "<class 'pandas.core.frame.DataFrame'>\n",
            "RangeIndex: 47959 entries, 0 to 47958\n",
            "Data columns (total 2 columns):\n",
            " #   Column  Non-Null Count  Dtype \n",
            "---  ------  --------------  ----- \n",
            " 0   text    47959 non-null  object\n",
            " 1   labels  47959 non-null  object\n",
            "dtypes: object(2)\n",
            "memory usage: 749.5+ KB\n",
            "None\n"
          ]
        }
      ]
    },
    {
      "cell_type": "code",
      "source": [
        "# Load the dataset\n",
        "\n",
        "total_rows = len(pd.read_csv(namefile, encoding=\"utf-8\"))\n",
        "pbar = tqdm(total=total_rows)\n",
        "\n",
        "# Create a new np array to store the extracted sentences\n",
        "dataset_sentences_array = []\n",
        "dataset_labels_array = []\n",
        "\n",
        "chunksize = 10000\n",
        "\n",
        "# Open file\n",
        "for chunk in pd.read_csv(namefile, sep=',', encoding=\"utf-8\", chunksize=chunksize):\n",
        "    # Manage NaN values\n",
        "    chunk = chunk.fillna('')\n",
        "\n",
        "    for index, row in chunk.iterrows():\n",
        "\n",
        "        # Save string and true label\n",
        "        dataset_sentences_array.append(row['text'])\n",
        "        dataset_labels_array.append(row['labels'])\n",
        "\n",
        "    pbar.update(chunksize)\n",
        "\n",
        "pbar.close()\n",
        "\n",
        "# Print out some info\n",
        "\n",
        "print(\"\\nAn element from the sentence array: \", dataset_sentences_array[10])\n",
        "print(\"An element from the true label array: \", dataset_labels_array[10])\n",
        "\n",
        "print(\"Len sentence array: \", len(dataset_sentences_array))\n",
        "print(\"Len true label array: \", len(dataset_labels_array))\n"
      ],
      "metadata": {
        "id": "J30Ds3uUzvFU",
        "colab": {
          "base_uri": "https://localhost:8080/"
        },
        "outputId": "05f9f15a-134d-4c10-b090-d01976a87cca"
      },
      "execution_count": 22,
      "outputs": [
        {
          "output_type": "stream",
          "name": "stderr",
          "text": [
            "50000it [00:02, 18066.62it/s]"
          ]
        },
        {
          "output_type": "stream",
          "name": "stdout",
          "text": [
            "\n",
            "An element from the sentence array:  In Beirut , a string of officials voiced their anger , while at the United Nations summit in New York , Prime Minister Fouad Siniora said the Lebanese people are resolute in preventing such attempts from destroying their spirit .\n",
            "An element from the true label array:  O B-geo O O O O O O O O O O O O B-org I-org O O B-geo I-geo O B-per O B-per I-per O O B-gpe O O O O O O O O O O O O\n",
            "Len sentence array:  47959\n",
            "Len true label array:  47959\n"
          ]
        },
        {
          "output_type": "stream",
          "name": "stderr",
          "text": [
            "\n"
          ]
        }
      ]
    },
    {
      "cell_type": "code",
      "source": [
        "import random\n",
        "\n",
        "# Random seed for reproducibility (seed = 77)\n",
        "random.seed(77)\n",
        "\n",
        "# Shuffle array with random seed\n",
        "random.shuffle(dataset_sentences_array)\n",
        "random.shuffle(dataset_labels_array)\n",
        "\n",
        "print(\"An element from the sentence array: \", dataset_sentences_array[10])\n",
        "print(\"An element from the true label array: \", dataset_labels_array[10])\n",
        "\n",
        "# Slicing 150\n",
        "dataset_sentences_array = dataset_sentences_array[:150]\n",
        "dataset_labels_array = dataset_labels_array[:150]\n",
        "\n",
        "print(\"Len sentence array: \", len(dataset_sentences_array))\n",
        "print(\"Len true label array: \", len(dataset_labels_array))"
      ],
      "metadata": {
        "colab": {
          "base_uri": "https://localhost:8080/"
        },
        "id": "YI4VX6Jb1XUZ",
        "outputId": "21bcf44f-5595-4cc0-f637-3391d3fe3e1e"
      },
      "execution_count": 23,
      "outputs": [
        {
          "output_type": "stream",
          "name": "stdout",
          "text": [
            "An element from the sentence array:  South Korean authorities have destroyed thousands of ducks at four southern farms , after discovering what they call a \" low pathogenic \" strain of the bird flu virus .\n",
            "An element from the true label array:  O B-org I-org I-org O O O O O O O O O\n",
            "Len sentence array:  150\n",
            "Len true label array:  150\n"
          ]
        }
      ]
    },
    {
      "cell_type": "markdown",
      "source": [
        "**Gemini** for NER *(Name Entity Recognition)* task"
      ],
      "metadata": {
        "id": "Ok-bxoU0wZps"
      }
    },
    {
      "cell_type": "code",
      "source": [
        "# Get the API key from the environment of Google Colab (aka Secrets)\n",
        "\n",
        "GOOGLE_API_KEY = userdata.get('GOOGLE_API_KEY')\n",
        "client = genai.Client(api_key=GOOGLE_API_KEY)"
      ],
      "metadata": {
        "id": "O0d6df-Au9Fe"
      },
      "execution_count": null,
      "outputs": []
    },
    {
      "cell_type": "code",
      "source": [
        "response = \"\"\n",
        "for sentence in dataset_sentences_array:\n",
        "\n",
        "  #TODO:\n",
        "\n",
        "  # Prompt for the NER task\n",
        "  # prompt = \"\"\n",
        "\n",
        "\n",
        "  # response = client.models.generate_content(\n",
        "  #     model=\"gemini-2.0-flash\",\n",
        "  #     contents=prompt,\n",
        "  # )\n",
        "\n",
        "  # response = response.text\n",
        "\n",
        "  # Analysis of the response using the true label"
      ],
      "metadata": {
        "id": "rFCnMwpgv3XK"
      },
      "execution_count": null,
      "outputs": []
    }
  ]
}