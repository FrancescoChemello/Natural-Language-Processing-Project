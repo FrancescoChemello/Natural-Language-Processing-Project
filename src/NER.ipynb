{
  "nbformat": 4,
  "nbformat_minor": 0,
  "metadata": {
    "colab": {
      "provenance": []
    },
    "kernelspec": {
      "name": "python3",
      "display_name": "Python 3"
    },
    "language_info": {
      "name": "python"
    }
  },
  "cells": [
    {
      "cell_type": "code",
      "execution_count": 1,
      "metadata": {
        "id": "nkt2WG4TuxMK"
      },
      "outputs": [],
      "source": [
        "import os\n",
        "from tqdm import tqdm\n",
        "import pandas as pd\n",
        "import numpy as np\n",
        "import csv\n",
        "\n",
        "# Gemini libraries\n",
        "from google import genai\n",
        "from google.genai import types"
      ]
    },
    {
      "cell_type": "code",
      "source": [
        "# To manage environment variables\n",
        "from google.colab import userdata"
      ],
      "metadata": {
        "id": "U-v7U5e7vG7R"
      },
      "execution_count": 2,
      "outputs": []
    },
    {
      "cell_type": "markdown",
      "source": [
        "**DATASET**\n",
        "\n",
        "*NER tags*:\n",
        "\n",
        "- **ORGANIZATION** such as *Georgia-Pacific Corp.*, *WHO\n",
        "- **PERSON** such as *Eddy Bonte*, *President Obama*.\n",
        "- **LOCATION** such as *Murray River*, *Mount Everest*.\n",
        "- **DATE** - such as *June*, *2008-06-29*.\n",
        "- **TIME** - such as *two fifty a m*, *1:30 p.m.*\n",
        "- **MONEY** such as *175 million Canadian Dollars*, *GBP 10.40*.\n",
        "- **PERCENT** such as *twenty pct*, *18.75 %*\n",
        "- **FACILITY** such as *Washington Monument*, *Stonehenge*.\n",
        "- **GPE** such as *South East Asia*, *Midlothian*."
      ],
      "metadata": {
        "id": "o9t4jGplwXdF"
      }
    },
    {
      "cell_type": "code",
      "source": [
        "# Use your personal account!\n",
        "\n",
        "from google.colab import drive\n",
        "drive.mount('/content/drive')"
      ],
      "metadata": {
        "colab": {
          "base_uri": "https://localhost:8080/"
        },
        "id": "u5Q37dEwwZMH",
        "outputId": "9dd147a5-a5ce-4690-e992-9e3d27605138"
      },
      "execution_count": 3,
      "outputs": [
        {
          "output_type": "stream",
          "name": "stdout",
          "text": [
            "Drive already mounted at /content/drive; to attempt to forcibly remount, call drive.mount(\"/content/drive\", force_remount=True).\n"
          ]
        }
      ]
    },
    {
      "cell_type": "code",
      "source": [
        "namefile = '/content/drive/MyDrive/Colab Notebooks/NLP/ner_dataset.csv'\n",
        "\n",
        "dataset = pd.read_csv(namefile, encoding=\"utf-8\")\n",
        "\n",
        "print(\"Dataset head:\")\n",
        "print(dataset.head)\n",
        "print(\"\\nDataset shape: \", dataset.shape)\n",
        "print(\"\\nDataset info:\")\n",
        "print(dataset.info())"
      ],
      "metadata": {
        "colab": {
          "base_uri": "https://localhost:8080/"
        },
        "id": "tvh6t9ezzpqi",
        "outputId": "aa66471f-1f78-4073-ac14-ef2ce2facf1b"
      },
      "execution_count": 4,
      "outputs": [
        {
          "output_type": "stream",
          "name": "stdout",
          "text": [
            "Dataset head:\n",
            "<bound method NDFrame.head of                                                     text  \\\n",
            "0      Thousands of demonstrators have marched throug...   \n",
            "1      Iranian officials say they expect to get acces...   \n",
            "2      Helicopter gunships Saturday pounded militant ...   \n",
            "3      They left after a tense hour-long standoff wit...   \n",
            "4      U.N. relief coordinator Jan Egeland said Sunda...   \n",
            "...                                                  ...   \n",
            "47954  Opposition leader Mir Hossein Mousavi has said...   \n",
            "47955  On Thursday , Iranian state media published a ...   \n",
            "47956  Following Iran 's disputed June 12 elections ,...   \n",
            "47957  Since then , authorities have held public tria...   \n",
            "47958  The United Nations is praising the use of mili...   \n",
            "\n",
            "                                                  labels  \n",
            "0      O O O O O O B-geo O O O O O B-geo O O O O O B-...  \n",
            "1      B-gpe O O O O O O O O O O O O O O B-tim O O O ...  \n",
            "2      O O B-tim O O O O O B-geo O O O O O B-org O O ...  \n",
            "3                                  O O O O O O O O O O O  \n",
            "4      B-geo O O B-per I-per O B-tim O B-geo O B-gpe ...  \n",
            "...                                                  ...  \n",
            "47954  O O O B-per I-per O O O O O O O O O O O O O O ...  \n",
            "47955  O B-tim O B-gpe O O O O O O O O B-org I-org O ...  \n",
            "47956  O B-geo O O B-tim I-tim O O O O O O O O O O O ...  \n",
            "47957          O O O O O O O O O O O O O O O O O O O O O  \n",
            "47958  O B-org I-org O O O O O O O O O O O O O O B-ti...  \n",
            "\n",
            "[47959 rows x 2 columns]>\n",
            "\n",
            "Dataset shape:  (47959, 2)\n",
            "\n",
            "Dataset info:\n",
            "<class 'pandas.core.frame.DataFrame'>\n",
            "RangeIndex: 47959 entries, 0 to 47958\n",
            "Data columns (total 2 columns):\n",
            " #   Column  Non-Null Count  Dtype \n",
            "---  ------  --------------  ----- \n",
            " 0   text    47959 non-null  object\n",
            " 1   labels  47959 non-null  object\n",
            "dtypes: object(2)\n",
            "memory usage: 749.5+ KB\n",
            "None\n"
          ]
        }
      ]
    },
    {
      "cell_type": "code",
      "source": [
        "# Load the dataset\n",
        "\n",
        "total_rows = len(pd.read_csv(namefile, encoding=\"utf-8\"))\n",
        "pbar = tqdm(total=total_rows)\n",
        "\n",
        "# Create a new np array to store the extracted sentences\n",
        "dataset_array = []\n",
        "\n",
        "chunksize = 10000\n",
        "\n",
        "# Open file\n",
        "for chunk in pd.read_csv(namefile, sep=',', encoding=\"utf-8\", chunksize=chunksize):\n",
        "    # Manage NaN values\n",
        "    # chunk = chunk.fillna('')\n",
        "\n",
        "    for index, row in chunk.iterrows():\n",
        "\n",
        "        # Save string and true label\n",
        "        dataset_array.append((row['text'], row['labels']))\n",
        "\n",
        "    pbar.update(chunksize)\n",
        "\n",
        "pbar.close()\n",
        "\n",
        "# Print out some info\n",
        "\n",
        "print(\"\\nShape of the array: \", len(dataset_array))\n",
        "\n",
        "print(\"An element from the dataset: \", dataset_array[0])"
      ],
      "metadata": {
        "id": "J30Ds3uUzvFU",
        "colab": {
          "base_uri": "https://localhost:8080/"
        },
        "outputId": "e2a41f62-30fa-45c4-d232-7cb76de94550"
      },
      "execution_count": 5,
      "outputs": [
        {
          "output_type": "stream",
          "name": "stderr",
          "text": [
            "50000it [00:07, 6675.74it/s]"
          ]
        },
        {
          "output_type": "stream",
          "name": "stdout",
          "text": [
            "\n",
            "Shape of the array:  47959\n",
            "An element from the dataset:  ('Thousands of demonstrators have marched through London to protest the war in Iraq and demand the withdrawal of British troops from that country .', 'O O O O O O B-geo O O O O O B-geo O O O O O B-gpe O O O O O')\n"
          ]
        },
        {
          "output_type": "stream",
          "name": "stderr",
          "text": [
            "\n"
          ]
        }
      ]
    },
    {
      "cell_type": "code",
      "source": [
        "import random\n",
        "\n",
        "# Random seed for reproducibility (seed = 77)\n",
        "random.seed(77)\n",
        "\n",
        "dataset_sentences_array = []\n",
        "dataset_labels_array = []\n",
        "\n",
        "dataset_sentence_examples = []\n",
        "dataset_label_examples = []\n",
        "\n",
        "# Shuffle array with random seed\n",
        "random.shuffle(dataset_array)\n",
        "\n",
        "print(\"An element from the dataset after the shuffle: \", dataset_array[0])\n",
        "\n",
        "temp_array = dataset_array[:15]\n",
        "ex_array = dataset_array[16:31]\n",
        "\n",
        "# Slicing 15\n",
        "\n",
        "for (x,y) in temp_array:\n",
        "\n",
        "  dataset_sentences_array.append(x)\n",
        "  dataset_labels_array.append(y)\n",
        "\n",
        "for (x,y) in ex_array:\n",
        "\n",
        "  dataset_sentence_examples.append(x)\n",
        "  dataset_label_examples.append(y)\n",
        "\n",
        "print(\"Len sentence array: \", len(dataset_sentences_array))\n",
        "print(\"Len true label array: \", len(dataset_labels_array))\n",
        "\n",
        "print(\"Len sentence examples array: \", len(dataset_sentence_examples))\n",
        "print(\"Len true label examples array: \", len(dataset_label_examples))\n",
        "\n",
        "del temp_array, ex_array, dataset_array"
      ],
      "metadata": {
        "colab": {
          "base_uri": "https://localhost:8080/"
        },
        "id": "YI4VX6Jb1XUZ",
        "outputId": "d027e849-8775-488e-a233-ceaec16cf403"
      },
      "execution_count": 6,
      "outputs": [
        {
          "output_type": "stream",
          "name": "stdout",
          "text": [
            "An element from the dataset after the shuffle:  ('Heilongjiang has the largest cultivated land area in China along with heavy industry and timber resources .', 'B-geo O O O O O O O B-geo O O O O O O O O')\n",
            "Len sentence array:  15\n",
            "Len true label array:  15\n",
            "Len sentence examples array:  15\n",
            "Len true label examples array:  15\n"
          ]
        }
      ]
    },
    {
      "cell_type": "markdown",
      "source": [
        "**Gemini** for NER *(Name Entity Recognition)* task"
      ],
      "metadata": {
        "id": "Ok-bxoU0wZps"
      }
    },
    {
      "cell_type": "code",
      "source": [
        "# Keep only the words releated to a NER tag\n",
        "\n",
        "print(\"A sentence before the operation: \", dataset_sentences_array[1])\n",
        "print(\"A true label before the operation: \", dataset_labels_array[1])\n",
        "\n",
        "wordpair_sentence_label = []\n",
        "\n",
        "for i in range(0, len(dataset_labels_array)):\n",
        "  wordpair_sentence = []\n",
        "  sentence = dataset_sentences_array[i]\n",
        "  label = dataset_labels_array[i]\n",
        "  for tag in range(0, len(label.split(\" \"))):\n",
        "    if (label.split(\" \"))[tag] != 'O':\n",
        "      wordpair_sentence.append(((sentence.split(\" \"))[tag], (label.split(\" \"))[tag]))\n",
        "  wordpair_sentence_label.append(wordpair_sentence)\n",
        "\n",
        "print(\"A sentence after the operation: \", wordpair_sentence_label[1])\n",
        "\n",
        "print(\"A sentence before the operation: \", dataset_sentence_examples[1])\n",
        "print(\"A true label before the operation: \", dataset_label_examples[1])\n",
        "\n",
        "wordpair_sentence_label_example = []\n",
        "\n",
        "for i in range(0, len(dataset_label_examples)):\n",
        "  wordpair_sentence = []\n",
        "  sentence = dataset_sentence_examples[i]\n",
        "  label = dataset_label_examples[i]\n",
        "  for tag in range(0, len(label.split(\" \"))):\n",
        "    if (label.split(\" \"))[tag] != 'O':\n",
        "      wordpair_sentence.append(((sentence.split(\" \"))[tag], (label.split(\" \"))[tag]))\n",
        "  wordpair_sentence_label_example.append(wordpair_sentence)\n",
        "\n",
        "print(\"A sentence after the operation: \", wordpair_sentence_label_example[1])"
      ],
      "metadata": {
        "colab": {
          "base_uri": "https://localhost:8080/"
        },
        "id": "3SvrnZEQnALo",
        "outputId": "b0ae53b9-7000-4b09-9a24-921fa9fcff70"
      },
      "execution_count": 7,
      "outputs": [
        {
          "output_type": "stream",
          "name": "stdout",
          "text": [
            "A sentence before the operation:  United Nations Secretary-General Kofi Annan has urged Mr. Banny 's government to immediately begin implementing a transition plan designed to lead to new elections by next October .\n",
            "A true label before the operation:  B-org I-org B-per I-per I-per O O B-per I-per O O O O O O O O O O O O O O O O O B-tim O\n",
            "A sentence after the operation:  [('United', 'B-org'), ('Nations', 'I-org'), ('Secretary-General', 'B-per'), ('Kofi', 'I-per'), ('Annan', 'I-per'), ('Mr.', 'B-per'), ('Banny', 'I-per'), ('October', 'B-tim')]\n",
            "A sentence before the operation:  A winter storm in the northeastern United States has shut down airline travel and cut power to thousands of people .\n",
            "A true label before the operation:  O O O O O O B-geo I-geo O O O O O O O O O O O O O\n",
            "A sentence after the operation:  [('United', 'B-geo'), ('States', 'I-geo')]\n"
          ]
        }
      ]
    },
    {
      "cell_type": "code",
      "source": [
        "# Get the API key from the environment of Google Colab (aka Secrets)\n",
        "\n",
        "GOOGLE_API_KEY = userdata.get('GOOGLE_API_KEY')\n",
        "client = genai.Client(api_key=GOOGLE_API_KEY)"
      ],
      "metadata": {
        "id": "O0d6df-Au9Fe"
      },
      "execution_count": 8,
      "outputs": []
    },
    {
      "cell_type": "code",
      "source": [
        "response = \"\"\n",
        "for i in range (0, 15):\n",
        "\n",
        "  #TODO:\n",
        "  # Prompt for the NER task\n",
        "  prompt = \"\"\"You should perform the Name Entity Recognition (also known as NER)\n",
        "  to the following phrase I will give to you. You should\n",
        "  find all the instance belongings to the following classes:\n",
        "  - ORGANIZATION such as Georgia-Pacific Corp.\n",
        "  - PERSON such as Eddy Bonte, President Obama.\n",
        "  - LOCATION such as Murray River, Mount Everest.\n",
        "  - DATE such as June, 2008-06-29.\n",
        "  - TIME such as two fifty a m, 1:30 p.m.\n",
        "  - MONEY such as 175 million Canadian Dollars, GBP 10.40.\n",
        "  - PERCENT such as twenty pct, 18.75 %\n",
        "  - FACILITY such as Washington Monument, Stonehenge.\n",
        "  - GPE such as South East Asia, Midlothian.\n",
        "\n",
        "  No other tags shold be find. The result should be presented as a vector where\n",
        "  O is a word with no NER tag, and the others with its proper tag.\n",
        "  Each word should have its associated tag\n",
        "\n",
        "  Before we get started I give you an example:\n",
        "  - Input string: \"\"\" + dataset_sentence_examples[i] + \"\"\"\n",
        "  - The output should be: [\"\"\" + str(wordpair_sentence_label_example[i]) + \"\"\"]\n",
        "\n",
        "  Your phrase is: \"\"\" + dataset_sentences_array[i]\n",
        "\n",
        "  print(prompt)\n",
        "\n",
        "  print(\"\\n\\n\\n\\n\")\n",
        "\n",
        "  response = client.models.generate_content(\n",
        "      model=\"gemini-2.0-flash\",\n",
        "      contents=prompt,\n",
        "  )\n",
        "\n",
        "  # response = response.text\n",
        "  print(response.text)\n",
        "\n",
        "  print(\"Ture vector [\" + str(wordpair_sentence_label[i]) + \"]\")\n",
        "\n",
        "  break\n",
        "\n",
        "  # Analysis of the response using the true label"
      ],
      "metadata": {
        "id": "rFCnMwpgv3XK",
        "colab": {
          "base_uri": "https://localhost:8080/"
        },
        "outputId": "a902dc4e-9b79-4fa1-c87a-0abe9cafa261"
      },
      "execution_count": 10,
      "outputs": [
        {
          "output_type": "stream",
          "name": "stdout",
          "text": [
            "You should perform the Name Entity Recognition (also known as NER)\n",
            "  to the following phrase I will give to you. You should\n",
            "  find all the instance belongings to the following classes:\n",
            "  - ORGANIZATION such as Georgia-Pacific Corp.\n",
            "  - PERSON such as Eddy Bonte, President Obama.\n",
            "  - LOCATION such as Murray River, Mount Everest.\n",
            "  - DATE such as June, 2008-06-29.\n",
            "  - TIME such as two fifty a m, 1:30 p.m.\n",
            "  - MONEY such as 175 million Canadian Dollars, GBP 10.40.\n",
            "  - PERCENT such as twenty pct, 18.75 %\n",
            "  - FACILITY such as Washington Monument, Stonehenge.\n",
            "  - GPE such as South East Asia, Midlothian.\n",
            "\n",
            "  No other tags shold be find. The result should be presented as a vector where \n",
            "  O is a word with no NER tag, and the others with its proper tag.\n",
            "  Each word should have its associated tag\n",
            "\n",
            "  Before we get started I give you an example:\n",
            "  - Input string: Turkey , the United States and other nations have designated the PKK a terrorist group .\n",
            "  - The output should be: [[('Turkey', 'B-org'), ('United', 'B-geo'), ('States', 'I-geo'), ('PKK', 'B-org')]]\n",
            "  \n",
            "  Your phrase is: Heilongjiang has the largest cultivated land area in China along with heavy industry and timber resources .\n",
            "\n",
            "\n",
            "\n",
            "\n",
            "\n",
            "Here's the NER tagging for your phrase, following the specified format and categories:\n",
            "\n",
            "```\n",
            "[('Heilongjiang', 'B-GPE'), ('has', 'O'), ('the', 'O'), ('largest', 'O'), ('cultivated', 'O'), ('land', 'O'), ('area', 'O'), ('in', 'O'), ('China', 'B-GPE'), ('along', 'O'), ('with', 'O'), ('heavy', 'O'), ('industry', 'O'), ('and', 'O'), ('timber', 'O'), ('resources', 'O')]\n",
            "```\n",
            "\n",
            "Ture vector [[('Heilongjiang', 'B-geo'), ('China', 'B-geo')]]\n"
          ]
        }
      ]
    }
  ]
}